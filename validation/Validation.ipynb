{
 "cells": [
  {
   "cell_type": "markdown",
   "id": "672e0362",
   "metadata": {},
   "source": [
    "# Execution time as a function of concurrent petitions"
   ]
  },
  {
   "cell_type": "markdown",
   "id": "56ea00eb",
   "metadata": {},
   "source": [
    "Evaluation of the time it takes for the API to respond to a request. It will be evaluated for the case of gate-based machines by launching different number of concurrent requests (in order to evaluate the API under a reduced stress test) and by varying the number of qubits needed (something that affects the flow of internal API checks).\n",
    "\n",
    "All requests are sent with 1000 shots, since this does not affect the API response time. Only the calculation of the estimated cost and execution time of the estimated quantum code."
   ]
  },
  {
   "cell_type": "markdown",
   "id": "59079700",
   "metadata": {},
   "source": [
    "### Import data"
   ]
  },
  {
   "cell_type": "code",
   "execution_count": 129,
   "id": "ab7ebe0d",
   "metadata": {},
   "outputs": [],
   "source": [
    "import pandas as pd\n",
    "import matplotlib.pyplot as plt\n",
    "import seaborn as sns\n",
    "import numpy as np"
   ]
  },
  {
   "cell_type": "code",
   "execution_count": 130,
   "id": "51b7be7f",
   "metadata": {},
   "outputs": [
    {
     "data": {
      "text/html": [
       "<div>\n",
       "<style scoped>\n",
       "    .dataframe tbody tr th:only-of-type {\n",
       "        vertical-align: middle;\n",
       "    }\n",
       "\n",
       "    .dataframe tbody tr th {\n",
       "        vertical-align: top;\n",
       "    }\n",
       "\n",
       "    .dataframe thead th {\n",
       "        text-align: right;\n",
       "    }\n",
       "</style>\n",
       "<table border=\"1\" class=\"dataframe\">\n",
       "  <thead>\n",
       "    <tr style=\"text-align: right;\">\n",
       "      <th></th>\n",
       "      <th>qubits</th>\n",
       "      <th>concurrent_petitions</th>\n",
       "      <th>shots</th>\n",
       "      <th>type</th>\n",
       "      <th>time</th>\n",
       "    </tr>\n",
       "  </thead>\n",
       "  <tbody>\n",
       "    <tr>\n",
       "      <th>0</th>\n",
       "      <td>1</td>\n",
       "      <td>1</td>\n",
       "      <td>1000</td>\n",
       "      <td>gate</td>\n",
       "      <td>35.085437</td>\n",
       "    </tr>\n",
       "    <tr>\n",
       "      <th>1</th>\n",
       "      <td>1</td>\n",
       "      <td>10</td>\n",
       "      <td>1000</td>\n",
       "      <td>gate</td>\n",
       "      <td>30.034176</td>\n",
       "    </tr>\n",
       "    <tr>\n",
       "      <th>2</th>\n",
       "      <td>1</td>\n",
       "      <td>10</td>\n",
       "      <td>1000</td>\n",
       "      <td>gate</td>\n",
       "      <td>38.123480</td>\n",
       "    </tr>\n",
       "    <tr>\n",
       "      <th>3</th>\n",
       "      <td>1</td>\n",
       "      <td>10</td>\n",
       "      <td>1000</td>\n",
       "      <td>gate</td>\n",
       "      <td>25.137481</td>\n",
       "    </tr>\n",
       "    <tr>\n",
       "      <th>4</th>\n",
       "      <td>1</td>\n",
       "      <td>10</td>\n",
       "      <td>1000</td>\n",
       "      <td>gate</td>\n",
       "      <td>28.425803</td>\n",
       "    </tr>\n",
       "  </tbody>\n",
       "</table>\n",
       "</div>"
      ],
      "text/plain": [
       "   qubits  concurrent_petitions  shots  type       time\n",
       "0       1                     1   1000  gate  35.085437\n",
       "1       1                    10   1000  gate  30.034176\n",
       "2       1                    10   1000  gate  38.123480\n",
       "3       1                    10   1000  gate  25.137481\n",
       "4       1                    10   1000  gate  28.425803"
      ]
     },
     "execution_count": 130,
     "metadata": {},
     "output_type": "execute_result"
    }
   ],
   "source": [
    "data_r = pd.read_csv(\"data_test.csv\")\n",
    "data_r.head(5)"
   ]
  },
  {
   "cell_type": "code",
   "execution_count": 131,
   "id": "6c68482f",
   "metadata": {},
   "outputs": [
    {
     "data": {
      "text/html": [
       "<div>\n",
       "<style scoped>\n",
       "    .dataframe tbody tr th:only-of-type {\n",
       "        vertical-align: middle;\n",
       "    }\n",
       "\n",
       "    .dataframe tbody tr th {\n",
       "        vertical-align: top;\n",
       "    }\n",
       "\n",
       "    .dataframe thead th {\n",
       "        text-align: right;\n",
       "    }\n",
       "</style>\n",
       "<table border=\"1\" class=\"dataframe\">\n",
       "  <thead>\n",
       "    <tr style=\"text-align: right;\">\n",
       "      <th></th>\n",
       "      <th>qubits</th>\n",
       "      <th>concurrent_petitions</th>\n",
       "      <th>shots</th>\n",
       "      <th>time</th>\n",
       "    </tr>\n",
       "  </thead>\n",
       "  <tbody>\n",
       "    <tr>\n",
       "      <th>count</th>\n",
       "      <td>61.0</td>\n",
       "      <td>61.000000</td>\n",
       "      <td>61.0</td>\n",
       "      <td>61.000000</td>\n",
       "    </tr>\n",
       "    <tr>\n",
       "      <th>mean</th>\n",
       "      <td>4.0</td>\n",
       "      <td>42.639344</td>\n",
       "      <td>1000.0</td>\n",
       "      <td>34.871900</td>\n",
       "    </tr>\n",
       "    <tr>\n",
       "      <th>std</th>\n",
       "      <td>0.0</td>\n",
       "      <td>15.861938</td>\n",
       "      <td>0.0</td>\n",
       "      <td>4.467139</td>\n",
       "    </tr>\n",
       "    <tr>\n",
       "      <th>min</th>\n",
       "      <td>4.0</td>\n",
       "      <td>1.000000</td>\n",
       "      <td>1000.0</td>\n",
       "      <td>26.180147</td>\n",
       "    </tr>\n",
       "    <tr>\n",
       "      <th>25%</th>\n",
       "      <td>4.0</td>\n",
       "      <td>50.000000</td>\n",
       "      <td>1000.0</td>\n",
       "      <td>31.388796</td>\n",
       "    </tr>\n",
       "    <tr>\n",
       "      <th>50%</th>\n",
       "      <td>4.0</td>\n",
       "      <td>50.000000</td>\n",
       "      <td>1000.0</td>\n",
       "      <td>34.997006</td>\n",
       "    </tr>\n",
       "    <tr>\n",
       "      <th>75%</th>\n",
       "      <td>4.0</td>\n",
       "      <td>50.000000</td>\n",
       "      <td>1000.0</td>\n",
       "      <td>37.737802</td>\n",
       "    </tr>\n",
       "    <tr>\n",
       "      <th>max</th>\n",
       "      <td>4.0</td>\n",
       "      <td>50.000000</td>\n",
       "      <td>1000.0</td>\n",
       "      <td>44.293048</td>\n",
       "    </tr>\n",
       "  </tbody>\n",
       "</table>\n",
       "</div>"
      ],
      "text/plain": [
       "       qubits  concurrent_petitions   shots       time\n",
       "count    61.0             61.000000    61.0  61.000000\n",
       "mean      4.0             42.639344  1000.0  34.871900\n",
       "std       0.0             15.861938     0.0   4.467139\n",
       "min       4.0              1.000000  1000.0  26.180147\n",
       "25%       4.0             50.000000  1000.0  31.388796\n",
       "50%       4.0             50.000000  1000.0  34.997006\n",
       "75%       4.0             50.000000  1000.0  37.737802\n",
       "max       4.0             50.000000  1000.0  44.293048"
      ]
     },
     "execution_count": 131,
     "metadata": {},
     "output_type": "execute_result"
    }
   ],
   "source": [
    "data_r[data_r[\"qubits\"]==4].describe()"
   ]
  },
  {
   "cell_type": "code",
   "execution_count": 132,
   "id": "515f3bd1",
   "metadata": {},
   "outputs": [
    {
     "data": {
      "text/plain": [
       "array([ 1,  2,  4, 16, 30, 40], dtype=int64)"
      ]
     },
     "execution_count": 132,
     "metadata": {},
     "output_type": "execute_result"
    }
   ],
   "source": [
    "data_r[\"qubits\"].unique()"
   ]
  },
  {
   "cell_type": "code",
   "execution_count": 133,
   "id": "e90de309",
   "metadata": {},
   "outputs": [
    {
     "data": {
      "text/plain": [
       "array([ 1, 10, 50, 60], dtype=int64)"
      ]
     },
     "execution_count": 133,
     "metadata": {},
     "output_type": "execute_result"
    }
   ],
   "source": [
    "data_r[\"concurrent_petitions\"].unique()"
   ]
  },
  {
   "cell_type": "code",
   "execution_count": 134,
   "id": "bba50ea5",
   "metadata": {},
   "outputs": [
    {
     "data": {
      "text/plain": [
       "array([1000], dtype=int64)"
      ]
     },
     "execution_count": 134,
     "metadata": {},
     "output_type": "execute_result"
    }
   ],
   "source": [
    "data_r[\"shots\"].unique()"
   ]
  },
  {
   "cell_type": "markdown",
   "id": "90a7996f",
   "metadata": {},
   "source": [
    "### Generate graph"
   ]
  },
  {
   "cell_type": "markdown",
   "id": "dc193766",
   "metadata": {},
   "source": [
    "We format the data, adding a field that indicates what is the index of a request within the set of requests that have the same number of qubits."
   ]
  },
  {
   "cell_type": "code",
   "execution_count": 135,
   "id": "6082a1ce",
   "metadata": {},
   "outputs": [
    {
     "data": {
      "text/html": [
       "<div>\n",
       "<style scoped>\n",
       "    .dataframe tbody tr th:only-of-type {\n",
       "        vertical-align: middle;\n",
       "    }\n",
       "\n",
       "    .dataframe tbody tr th {\n",
       "        vertical-align: top;\n",
       "    }\n",
       "\n",
       "    .dataframe thead th {\n",
       "        text-align: right;\n",
       "    }\n",
       "</style>\n",
       "<table border=\"1\" class=\"dataframe\">\n",
       "  <thead>\n",
       "    <tr style=\"text-align: right;\">\n",
       "      <th></th>\n",
       "      <th>qubits</th>\n",
       "      <th>concurrent_petitions</th>\n",
       "      <th>shots</th>\n",
       "      <th>time</th>\n",
       "      <th>petition</th>\n",
       "    </tr>\n",
       "  </thead>\n",
       "  <tbody>\n",
       "    <tr>\n",
       "      <th>count</th>\n",
       "      <td>363.000000</td>\n",
       "      <td>363.000000</td>\n",
       "      <td>363.0</td>\n",
       "      <td>363.000000</td>\n",
       "      <td>363.000000</td>\n",
       "    </tr>\n",
       "    <tr>\n",
       "      <th>mean</th>\n",
       "      <td>15.391185</td>\n",
       "      <td>51.247934</td>\n",
       "      <td>1000.0</td>\n",
       "      <td>28.260693</td>\n",
       "      <td>30.752066</td>\n",
       "    </tr>\n",
       "    <tr>\n",
       "      <th>std</th>\n",
       "      <td>14.926195</td>\n",
       "      <td>14.165331</td>\n",
       "      <td>0.0</td>\n",
       "      <td>6.869773</td>\n",
       "      <td>17.490146</td>\n",
       "    </tr>\n",
       "    <tr>\n",
       "      <th>min</th>\n",
       "      <td>1.000000</td>\n",
       "      <td>1.000000</td>\n",
       "      <td>1000.0</td>\n",
       "      <td>11.907613</td>\n",
       "      <td>1.000000</td>\n",
       "    </tr>\n",
       "    <tr>\n",
       "      <th>25%</th>\n",
       "      <td>2.000000</td>\n",
       "      <td>50.000000</td>\n",
       "      <td>1000.0</td>\n",
       "      <td>22.943007</td>\n",
       "      <td>16.000000</td>\n",
       "    </tr>\n",
       "    <tr>\n",
       "      <th>50%</th>\n",
       "      <td>4.000000</td>\n",
       "      <td>50.000000</td>\n",
       "      <td>1000.0</td>\n",
       "      <td>27.914225</td>\n",
       "      <td>31.000000</td>\n",
       "    </tr>\n",
       "    <tr>\n",
       "      <th>75%</th>\n",
       "      <td>30.000000</td>\n",
       "      <td>60.000000</td>\n",
       "      <td>1000.0</td>\n",
       "      <td>33.670594</td>\n",
       "      <td>46.000000</td>\n",
       "    </tr>\n",
       "    <tr>\n",
       "      <th>max</th>\n",
       "      <td>40.000000</td>\n",
       "      <td>60.000000</td>\n",
       "      <td>1000.0</td>\n",
       "      <td>45.491896</td>\n",
       "      <td>61.000000</td>\n",
       "    </tr>\n",
       "  </tbody>\n",
       "</table>\n",
       "</div>"
      ],
      "text/plain": [
       "           qubits  concurrent_petitions   shots        time    petition\n",
       "count  363.000000            363.000000   363.0  363.000000  363.000000\n",
       "mean    15.391185             51.247934  1000.0   28.260693   30.752066\n",
       "std     14.926195             14.165331     0.0    6.869773   17.490146\n",
       "min      1.000000              1.000000  1000.0   11.907613    1.000000\n",
       "25%      2.000000             50.000000  1000.0   22.943007   16.000000\n",
       "50%      4.000000             50.000000  1000.0   27.914225   31.000000\n",
       "75%     30.000000             60.000000  1000.0   33.670594   46.000000\n",
       "max     40.000000             60.000000  1000.0   45.491896   61.000000"
      ]
     },
     "execution_count": 135,
     "metadata": {},
     "output_type": "execute_result"
    }
   ],
   "source": [
    "q_index = {}\n",
    "for q in data_r[\"qubits\"].unique():\n",
    "    q_index[q]=1\n",
    "    \n",
    "data_r['petition'] = 0\n",
    "for index, row in data_r.iterrows():\n",
    "    row[\"petition\"] = q_index[row[\"qubits\"]]\n",
    "    q_index[row[\"qubits\"]] = q_index[row[\"qubits\"]]+1    \n",
    "    data_r.loc[index,\"petition\"] = row[\"petition\"]\n",
    "data_r.describe()"
   ]
  },
  {
   "cell_type": "markdown",
   "id": "d3d16f27",
   "metadata": {},
   "source": [
    "We generate a lineplot showing the evolution of the response time as the number of concurrent requests increases, with a line for each number of qubits"
   ]
  },
  {
   "cell_type": "code",
   "execution_count": 143,
   "id": "0c9f3b51",
   "metadata": {},
   "outputs": [
    {
     "data": {
      "text/plain": [
       "[Text(0.5, 0, 'Number of concurrent petitions'),\n",
       " Text(0, 0.5, 'Time for response (s)')]"
      ]
     },
     "execution_count": 143,
     "metadata": {},
     "output_type": "execute_result"
    },
    {
     "data": {
      "image/png": "[encoded data removed]",
      "text/plain": [
       "<Figure size 432x288 with 1 Axes>"
      ]
     },
     "metadata": {
      "needs_background": "light"
     },
     "output_type": "display_data"
    }
   ],
   "source": [
    "plt.ylim(0, 100)\n",
    "\n",
    "ax = sns.lineplot(data=data_r, x=\"petition\", y=\"time\", hue=\"qubits\")\n",
    "ax.set(xlabel='Number of concurrent petitions', ylabel='Time for response (s)')\n"
   ]
  },
  {
   "cell_type": "markdown",
   "id": "e4b8ecab",
   "metadata": {},
   "source": [
    "As can be seen, configurations with more qubits, as there are fewer machines that comply with them (and therefore fewer machines to evaluate), it takes less time to evaluate them."
   ]
  },
  {
   "cell_type": "markdown",
   "id": "30986124",
   "metadata": {},
   "source": [
    "# Percentage of time to consult AWS Braket"
   ]
  },
  {
   "cell_type": "markdown",
   "id": "d745ffae",
   "metadata": {},
   "source": [
    "Evaluation of on which parts of the internal API operations the response time discussed above is spent. Let's compare the total response time with that needed to query the real-time state of quantum machines via Amazon Braket API."
   ]
  },
  {
   "cell_type": "markdown",
   "id": "f4945bb5",
   "metadata": {},
   "source": [
    "### Import data"
   ]
  },
  {
   "cell_type": "code",
   "execution_count": 137,
   "id": "f8eb0394",
   "metadata": {},
   "outputs": [
    {
     "data": {
      "text/html": [
       "<div>\n",
       "<style scoped>\n",
       "    .dataframe tbody tr th:only-of-type {\n",
       "        vertical-align: middle;\n",
       "    }\n",
       "\n",
       "    .dataframe tbody tr th {\n",
       "        vertical-align: top;\n",
       "    }\n",
       "\n",
       "    .dataframe thead th {\n",
       "        text-align: right;\n",
       "    }\n",
       "</style>\n",
       "<table border=\"1\" class=\"dataframe\">\n",
       "  <thead>\n",
       "    <tr style=\"text-align: right;\">\n",
       "      <th></th>\n",
       "      <th>complete</th>\n",
       "      <th>aws</th>\n",
       "    </tr>\n",
       "  </thead>\n",
       "  <tbody>\n",
       "    <tr>\n",
       "      <th>0</th>\n",
       "      <td>23.325767</td>\n",
       "      <td>23.324946</td>\n",
       "    </tr>\n",
       "    <tr>\n",
       "      <th>1</th>\n",
       "      <td>25.822572</td>\n",
       "      <td>25.807122</td>\n",
       "    </tr>\n",
       "    <tr>\n",
       "      <th>2</th>\n",
       "      <td>26.916468</td>\n",
       "      <td>26.912659</td>\n",
       "    </tr>\n",
       "    <tr>\n",
       "      <th>3</th>\n",
       "      <td>28.356814</td>\n",
       "      <td>28.356814</td>\n",
       "    </tr>\n",
       "    <tr>\n",
       "      <th>4</th>\n",
       "      <td>27.667714</td>\n",
       "      <td>27.667714</td>\n",
       "    </tr>\n",
       "  </tbody>\n",
       "</table>\n",
       "</div>"
      ],
      "text/plain": [
       "    complete        aws\n",
       "0  23.325767  23.324946\n",
       "1  25.822572  25.807122\n",
       "2  26.916468  26.912659\n",
       "3  28.356814  28.356814\n",
       "4  27.667714  27.667714"
      ]
     },
     "execution_count": 137,
     "metadata": {},
     "output_type": "execute_result"
    }
   ],
   "source": [
    "data_api = pd.read_csv(\"data_api.csv\")\n",
    "data_api.head(5)"
   ]
  },
  {
   "cell_type": "code",
   "execution_count": 138,
   "id": "42ef4377",
   "metadata": {},
   "outputs": [
    {
     "data": {
      "text/html": [
       "<div>\n",
       "<style scoped>\n",
       "    .dataframe tbody tr th:only-of-type {\n",
       "        vertical-align: middle;\n",
       "    }\n",
       "\n",
       "    .dataframe tbody tr th {\n",
       "        vertical-align: top;\n",
       "    }\n",
       "\n",
       "    .dataframe thead th {\n",
       "        text-align: right;\n",
       "    }\n",
       "</style>\n",
       "<table border=\"1\" class=\"dataframe\">\n",
       "  <thead>\n",
       "    <tr style=\"text-align: right;\">\n",
       "      <th></th>\n",
       "      <th>complete</th>\n",
       "      <th>aws</th>\n",
       "    </tr>\n",
       "  </thead>\n",
       "  <tbody>\n",
       "    <tr>\n",
       "      <th>count</th>\n",
       "      <td>574.000000</td>\n",
       "      <td>574.000000</td>\n",
       "    </tr>\n",
       "    <tr>\n",
       "      <th>mean</th>\n",
       "      <td>26.671628</td>\n",
       "      <td>26.668152</td>\n",
       "    </tr>\n",
       "    <tr>\n",
       "      <th>std</th>\n",
       "      <td>6.434965</td>\n",
       "      <td>6.435060</td>\n",
       "    </tr>\n",
       "    <tr>\n",
       "      <th>min</th>\n",
       "      <td>9.859314</td>\n",
       "      <td>9.858314</td>\n",
       "    </tr>\n",
       "    <tr>\n",
       "      <th>25%</th>\n",
       "      <td>21.736609</td>\n",
       "      <td>21.736126</td>\n",
       "    </tr>\n",
       "    <tr>\n",
       "      <th>50%</th>\n",
       "      <td>26.435464</td>\n",
       "      <td>26.434463</td>\n",
       "    </tr>\n",
       "    <tr>\n",
       "      <th>75%</th>\n",
       "      <td>31.461648</td>\n",
       "      <td>31.461648</td>\n",
       "    </tr>\n",
       "    <tr>\n",
       "      <th>max</th>\n",
       "      <td>44.428295</td>\n",
       "      <td>44.426310</td>\n",
       "    </tr>\n",
       "  </tbody>\n",
       "</table>\n",
       "</div>"
      ],
      "text/plain": [
       "         complete         aws\n",
       "count  574.000000  574.000000\n",
       "mean    26.671628   26.668152\n",
       "std      6.434965    6.435060\n",
       "min      9.859314    9.858314\n",
       "25%     21.736609   21.736126\n",
       "50%     26.435464   26.434463\n",
       "75%     31.461648   31.461648\n",
       "max     44.428295   44.426310"
      ]
     },
     "execution_count": 138,
     "metadata": {},
     "output_type": "execute_result"
    }
   ],
   "source": [
    "data_api.describe()"
   ]
  },
  {
   "cell_type": "markdown",
   "id": "8d3ab0a2",
   "metadata": {},
   "source": [
    "### Process data"
   ]
  },
  {
   "cell_type": "markdown",
   "id": "24a9c24b",
   "metadata": {},
   "source": [
    "Obtaining the average time it takes for responses to Quantum API Gateway and the average time it takes AWS to send the actual status of all queried machines."
   ]
  },
  {
   "cell_type": "code",
   "execution_count": 139,
   "id": "e0f546ef",
   "metadata": {},
   "outputs": [],
   "source": [
    "complete_mean = data_api.describe()[\"complete\"][\"mean\"]\n",
    "aws_mean = data_api.describe()[\"aws\"][\"mean\"]"
   ]
  },
  {
   "cell_type": "code",
   "execution_count": 140,
   "id": "37524532",
   "metadata": {},
   "outputs": [
    {
     "name": "stdout",
     "output_type": "stream",
     "text": [
      "AVG. time to complete petition in Quantum API Gateway: 26.67162760001857 seconds\n",
      "AVG. time to aws consultation in Quantum API Gateway: 26.668151803548326 seconds\n",
      "Percentage of AWS consultation with respect to complete petition: 99.9869681876098 %\n"
     ]
    }
   ],
   "source": [
    "print(\"AVG. time to complete petition in Quantum API Gateway:\",complete_mean,\"seconds\")\n",
    "print(\"AVG. time to aws consultation in Quantum API Gateway:\",aws_mean,\"seconds\")\n",
    "print(\"Percentage of AWS consultation with respect to complete petition:\",(aws_mean*100/complete_mean),\"%\")"
   ]
  },
  {
   "cell_type": "markdown",
   "id": "4cf105eb",
   "metadata": {},
   "source": [
    "Boxplot showing the distribution of the above times on the set of monitored requests, as well as the most outliers values, to see that there are no situations where the Quantum API Gateway is delayed not due to waiting for the response, but due to the fact that the Quantum API Gateway has been delayed for a long time."
   ]
  },
  {
   "cell_type": "code",
   "execution_count": 141,
   "id": "02345741",
   "metadata": {},
   "outputs": [
    {
     "data": {
      "image/png": "[encoded data removed]",
      "text/plain": [
       "<Figure size 432x288 with 1 Axes>"
      ]
     },
     "metadata": {
      "needs_background": "light"
     },
     "output_type": "display_data"
    }
   ],
   "source": [
    "complete_array = data_api[\"complete\"].to_numpy()\n",
    "aws_array = data_api[\"aws\"].to_numpy()\n",
    "\n",
    "c = np.full(len(complete_array), \"complete\")\n",
    "a = np.full(len(aws_array), \"aws\")\n",
    "x = np.concatenate((c,a), axis=None)\n",
    "y = np.concatenate((complete_array, aws_array), axis=None)\n",
    "\n",
    "ax = sns.boxplot(x=x, y=y)"
   ]
  },
  {
   "cell_type": "code",
   "execution_count": null,
   "id": "914ba7c2",
   "metadata": {},
   "outputs": [],
   "source": []
  }
 ],
 "metadata": {
  "kernelspec": {
   "display_name": "Python 3",
   "language": "python",
   "name": "python3"
  },
  "language_info": {
   "codemirror_mode": {
    "name": "ipython",
    "version": 3
   },
   "file_extension": ".py",
   "mimetype": "text/x-python",
   "name": "python",
   "nbconvert_exporter": "python",
   "pygments_lexer": "ipython3",
   "version": "3.8.8"
  }
 },
 "nbformat": 4,
 "nbformat_minor": 5
}
